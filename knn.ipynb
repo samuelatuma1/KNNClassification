{
 "cells": [
  {
   "cell_type": "code",
   "execution_count": 1,
   "metadata": {},
   "outputs": [],
   "source": [
    "import numpy as np"
   ]
  },
  {
   "cell_type": "code",
   "execution_count": 8,
   "metadata": {},
   "outputs": [],
   "source": [
    "def find_dist(a: list, b: list) -> float:\n",
    "    a = np.array(a)\n",
    "    b = np.array(b)\n",
    "    \n",
    "    dist = np.sqrt(np.sum((a - b) ** 2))\n",
    "    return dist"
   ]
  },
  {
   "cell_type": "code",
   "execution_count": 10,
   "metadata": {},
   "outputs": [
    {
     "data": {
      "text/plain": [
       "5.0"
      ]
     },
     "execution_count": 10,
     "metadata": {},
     "output_type": "execute_result"
    }
   ],
   "source": [
    "find_dist([6, 6], [3, 2])"
   ]
  },
  {
   "cell_type": "code",
   "execution_count": 13,
   "metadata": {},
   "outputs": [],
   "source": [
    "def majority_vote(arr:list) -> int:\n",
    "    all_votes = {}\n",
    "    for num in arr:\n",
    "        if num in all_votes:\n",
    "            all_votes[num] += 1\n",
    "        else:\n",
    "            all_votes[num] = 1\n",
    "    maximum = max(all_votes.values())\n",
    "    \n",
    "    for classItem, count in all_votes.items():\n",
    "        if count == maximum:\n",
    "            return classItem"
   ]
  },
  {
   "cell_type": "code",
   "execution_count": 14,
   "metadata": {},
   "outputs": [
    {
     "data": {
      "text/plain": [
       "1"
      ]
     },
     "execution_count": 14,
     "metadata": {},
     "output_type": "execute_result"
    }
   ],
   "source": [
    "majority_vote([2, 1, 1, 3])"
   ]
  },
  {
   "cell_type": "code",
   "execution_count": 87,
   "metadata": {},
   "outputs": [],
   "source": [
    "def classify(points, classification, new_point, neigbors=3):\n",
    "    distances = np.zeros(len(points))\n",
    "    \n",
    "    # Loop through all point and for each, compute the distance\n",
    "    for idx in range(len(points)):\n",
    "        distances[idx] = find_dist(new_point, points[idx])\n",
    "    \n",
    "    # Sort distances and return the sorted index location of dist between each coord and current point\n",
    "    # We need to sort based on indices because indices is the only relationship between classification and the points\n",
    "    # (Each index location for each data point exactly match their classification index)\n",
    "    sorted_dist = np.argsort(distances)\n",
    "    classification = np.array(classification)\n",
    "    \n",
    "    # \n",
    "    best_cat = majority_vote(classification[sorted_dist][:neigbors])\n",
    "    return best_cat"
   ]
  },
  {
   "cell_type": "code",
   "execution_count": 88,
   "metadata": {},
   "outputs": [
    {
     "data": {
      "text/plain": [
       "1"
      ]
     },
     "execution_count": 88,
     "metadata": {},
     "output_type": "execute_result"
    }
   ],
   "source": [
    "classify([[1, 1], [1, 2], [1, 3], [2, 1], [2, 2], [2, 3]], [0, 0, 0, 1, 1, 1], [2, 2.5])"
   ]
  },
  {
   "cell_type": "code",
   "execution_count": 35,
   "metadata": {},
   "outputs": [],
   "source": [
    "import pandas as pd\n",
    "\n"
   ]
  },
  {
   "cell_type": "code",
   "execution_count": 85,
   "metadata": {},
   "outputs": [],
   "source": [
    "dataframe = pd.DataFrame(\n",
    "    [\n",
    "        {\"x\": 1, 'y':1, 'z': 1, \"class\": 0},\n",
    "        {\"x\": 1, 'y':2, 'z': 1, \"class\": 0},\n",
    "        {\"x\": 1, 'y':3, 'z': 1, \"class\": 0},\n",
    "        {\"x\": 2, 'y':1, 'z': 1, \"class\": 1},\n",
    "        {\"x\": 2, 'y':2, 'z': 1, \"class\": 1},\n",
    "        {\"x\": 2, 'y':3, 'z': 1, \"class\": 1}\n",
    "     \n",
    "     ]\n",
    ")\n",
    "\n",
    "def classify(dataframe, point, k):\n",
    "    # Remove rows we cant work with (Rows with null data)\n",
    "    dataframe = dataframe.dropna(axis=0)\n",
    "    coord = list(list(zip(dataframe[\"x\"], dataframe[\"y\"], dataframe[\"z\"])))\n",
    "    classes = dataframe['class']\n",
    "    \n",
    "    # Start with an dist array\n",
    "    dist = np.zeros(len(coord))\n",
    "    \n",
    "    # fill distances with distance between point and coord\n",
    "    for idx in range(len(coord)):\n",
    "        dist[idx] = find_dist(point, coord[idx])\n",
    "    \n",
    "    # Sort the distances from closest to farthest, returning their indexes\n",
    "    sorted_idx = np.argsort(dist)\n",
    "    \n",
    "    # find class with the majority vote for the k nearest neighbors\n",
    "    closest_classes = classes[sorted_idx][:k]\n",
    "    classify_under = majority_vote(closest_classes)\n",
    "    \n",
    "    dataframe.loc[len(dataframe)] = pd.Series([point[0], point[1], point[2], classify_under], index=[\"x\", \"y\", 'z', \"class\"])\n",
    "    \n",
    "    return dataframe"
   ]
  },
  {
   "cell_type": "code",
   "execution_count": 86,
   "metadata": {},
   "outputs": [
    {
     "data": {
      "text/html": [
       "<div>\n",
       "<style scoped>\n",
       "    .dataframe tbody tr th:only-of-type {\n",
       "        vertical-align: middle;\n",
       "    }\n",
       "\n",
       "    .dataframe tbody tr th {\n",
       "        vertical-align: top;\n",
       "    }\n",
       "\n",
       "    .dataframe thead th {\n",
       "        text-align: right;\n",
       "    }\n",
       "</style>\n",
       "<table border=\"1\" class=\"dataframe\">\n",
       "  <thead>\n",
       "    <tr style=\"text-align: right;\">\n",
       "      <th></th>\n",
       "      <th>x</th>\n",
       "      <th>y</th>\n",
       "      <th>z</th>\n",
       "      <th>class</th>\n",
       "    </tr>\n",
       "  </thead>\n",
       "  <tbody>\n",
       "    <tr>\n",
       "      <th>0</th>\n",
       "      <td>1.0</td>\n",
       "      <td>1.0</td>\n",
       "      <td>1.0</td>\n",
       "      <td>0.0</td>\n",
       "    </tr>\n",
       "    <tr>\n",
       "      <th>1</th>\n",
       "      <td>1.0</td>\n",
       "      <td>2.0</td>\n",
       "      <td>1.0</td>\n",
       "      <td>0.0</td>\n",
       "    </tr>\n",
       "    <tr>\n",
       "      <th>2</th>\n",
       "      <td>1.0</td>\n",
       "      <td>3.0</td>\n",
       "      <td>1.0</td>\n",
       "      <td>0.0</td>\n",
       "    </tr>\n",
       "    <tr>\n",
       "      <th>3</th>\n",
       "      <td>2.0</td>\n",
       "      <td>1.0</td>\n",
       "      <td>1.0</td>\n",
       "      <td>1.0</td>\n",
       "    </tr>\n",
       "    <tr>\n",
       "      <th>4</th>\n",
       "      <td>2.0</td>\n",
       "      <td>2.0</td>\n",
       "      <td>1.0</td>\n",
       "      <td>1.0</td>\n",
       "    </tr>\n",
       "    <tr>\n",
       "      <th>5</th>\n",
       "      <td>2.0</td>\n",
       "      <td>3.0</td>\n",
       "      <td>1.0</td>\n",
       "      <td>1.0</td>\n",
       "    </tr>\n",
       "    <tr>\n",
       "      <th>6</th>\n",
       "      <td>2.0</td>\n",
       "      <td>2.5</td>\n",
       "      <td>1.0</td>\n",
       "      <td>1.0</td>\n",
       "    </tr>\n",
       "  </tbody>\n",
       "</table>\n",
       "</div>"
      ],
      "text/plain": [
       "     x    y    z  class\n",
       "0  1.0  1.0  1.0    0.0\n",
       "1  1.0  2.0  1.0    0.0\n",
       "2  1.0  3.0  1.0    0.0\n",
       "3  2.0  1.0  1.0    1.0\n",
       "4  2.0  2.0  1.0    1.0\n",
       "5  2.0  3.0  1.0    1.0\n",
       "6  2.0  2.5  1.0    1.0"
      ]
     },
     "execution_count": 86,
     "metadata": {},
     "output_type": "execute_result"
    }
   ],
   "source": [
    "classify(dataframe, [2, 2.5, 1], 3)"
   ]
  },
  {
   "cell_type": "code",
   "execution_count": null,
   "metadata": {},
   "outputs": [],
   "source": []
  }
 ],
 "metadata": {
  "interpreter": {
   "hash": "ac59ebe37160ed0dfa835113d9b8498d9f09ceb179beaac4002f036b9467c963"
  },
  "kernelspec": {
   "display_name": "Python 3.9.4 64-bit",
   "language": "python",
   "name": "python3"
  },
  "language_info": {
   "codemirror_mode": {
    "name": "ipython",
    "version": 3
   },
   "file_extension": ".py",
   "mimetype": "text/x-python",
   "name": "python",
   "nbconvert_exporter": "python",
   "pygments_lexer": "ipython3",
   "version": "3.9.4"
  },
  "orig_nbformat": 4
 },
 "nbformat": 4,
 "nbformat_minor": 2
}
